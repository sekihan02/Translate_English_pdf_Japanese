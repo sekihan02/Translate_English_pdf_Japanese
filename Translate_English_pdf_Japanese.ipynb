{
 "cells": [
  {
   "cell_type": "code",
   "execution_count": 1,
   "id": "2eb939c9-2696-422e-b7f5-d12a912f8129",
   "metadata": {},
   "outputs": [
    {
     "name": "stdout",
     "output_type": "stream",
     "text": [
      "Found existing installation: transformers 4.28.1\n",
      "Uninstalling transformers-4.28.1:\n",
      "  Successfully uninstalled transformers-4.28.1\n",
      "\u001b[33mWARNING: Running pip as the 'root' user can result in broken permissions and conflicting behaviour with the system package manager. It is recommended to use a virtual environment instead: https://pip.pypa.io/warnings/venv\u001b[0m\u001b[33m\n",
      "\u001b[0m"
     ]
    }
   ],
   "source": [
    "!pip3 uninstall -y transformers"
   ]
  },
  {
   "cell_type": "code",
   "execution_count": 2,
   "id": "ae65f518-b129-4743-9b4f-850ff94d9acf",
   "metadata": {},
   "outputs": [
    {
     "name": "stdout",
     "output_type": "stream",
     "text": [
      "Requirement already satisfied: pdfplumber in /usr/local/lib/python3.8/dist-packages (0.9.0)\n",
      "Requirement already satisfied: reportlab in /usr/local/lib/python3.8/dist-packages (3.6.12)\n",
      "Collecting transformers\n",
      "  Using cached transformers-4.28.1-py3-none-any.whl (7.0 MB)\n",
      "Requirement already satisfied: sacremoses in /usr/local/lib/python3.8/dist-packages (0.0.53)\n",
      "Requirement already satisfied: Wand>=0.6.10 in /usr/local/lib/python3.8/dist-packages (from pdfplumber) (0.6.11)\n",
      "Requirement already satisfied: pdfminer.six==20221105 in /usr/local/lib/python3.8/dist-packages (from pdfplumber) (20221105)\n",
      "Requirement already satisfied: Pillow>=9.1 in /usr/local/lib/python3.8/dist-packages (from pdfplumber) (9.5.0)\n",
      "Requirement already satisfied: charset-normalizer>=2.0.0 in /usr/local/lib/python3.8/dist-packages (from pdfminer.six==20221105->pdfplumber) (3.1.0)\n",
      "Requirement already satisfied: cryptography>=36.0.0 in /usr/local/lib/python3.8/dist-packages (from pdfminer.six==20221105->pdfplumber) (40.0.1)\n",
      "Requirement already satisfied: filelock in /usr/local/lib/python3.8/dist-packages (from transformers) (3.11.0)\n",
      "Requirement already satisfied: huggingface-hub<1.0,>=0.11.0 in /usr/local/lib/python3.8/dist-packages (from transformers) (0.13.4)\n",
      "Requirement already satisfied: requests in /usr/lib/python3/dist-packages (from transformers) (2.22.0)\n",
      "Requirement already satisfied: pyyaml>=5.1 in /usr/local/lib/python3.8/dist-packages (from transformers) (6.0)\n",
      "Requirement already satisfied: numpy>=1.17 in /usr/local/lib/python3.8/dist-packages (from transformers) (1.23.5)\n",
      "Requirement already satisfied: tokenizers!=0.11.3,<0.14,>=0.11.1 in /usr/local/lib/python3.8/dist-packages (from transformers) (0.12.1)\n",
      "Requirement already satisfied: tqdm>=4.27 in /usr/local/lib/python3.8/dist-packages (from transformers) (4.65.0)\n",
      "Requirement already satisfied: regex!=2019.12.17 in /usr/local/lib/python3.8/dist-packages (from transformers) (2023.3.23)\n",
      "Requirement already satisfied: packaging>=20.0 in /usr/local/lib/python3.8/dist-packages (from transformers) (23.1)\n",
      "Requirement already satisfied: six in /usr/lib/python3/dist-packages (from sacremoses) (1.14.0)\n",
      "Requirement already satisfied: joblib in /usr/local/lib/python3.8/dist-packages (from sacremoses) (1.2.0)\n",
      "Requirement already satisfied: click in /usr/local/lib/python3.8/dist-packages (from sacremoses) (8.1.3)\n",
      "Requirement already satisfied: typing-extensions>=3.7.4.3 in /usr/local/lib/python3.8/dist-packages (from huggingface-hub<1.0,>=0.11.0->transformers) (4.5.0)\n",
      "Requirement already satisfied: cffi>=1.12 in /usr/local/lib/python3.8/dist-packages (from cryptography>=36.0.0->pdfminer.six==20221105->pdfplumber) (1.15.1)\n",
      "Requirement already satisfied: pycparser in /usr/local/lib/python3.8/dist-packages (from cffi>=1.12->cryptography>=36.0.0->pdfminer.six==20221105->pdfplumber) (2.21)\n",
      "Installing collected packages: transformers\n",
      "Successfully installed transformers-4.28.1\n",
      "\u001b[33mWARNING: Running pip as the 'root' user can result in broken permissions and conflicting behaviour with the system package manager. It is recommended to use a virtual environment instead: https://pip.pypa.io/warnings/venv\u001b[0m\u001b[33m\n",
      "\u001b[0m"
     ]
    }
   ],
   "source": [
    "!pip3 install pdfplumber reportlab transformers sacremoses"
   ]
  },
  {
   "cell_type": "code",
   "execution_count": 3,
   "id": "8a320436-0589-49f9-a91a-685509972931",
   "metadata": {
    "scrolled": true,
    "tags": []
   },
   "outputs": [
    {
     "name": "stdout",
     "output_type": "stream",
     "text": [
      "Reading package lists... Done\n",
      "Building dependency tree       \n",
      "Reading state information... Done\n",
      "wkhtmltopdf is already the newest version (0.12.5-1build1).\n",
      "0 upgraded, 0 newly installed, 0 to remove and 26 not upgraded.\n"
     ]
    }
   ],
   "source": [
    "!sudo apt-get install -y wkhtmltopdf"
   ]
  },
  {
   "cell_type": "markdown",
   "id": "10915883-f351-4844-9893-74933664d75c",
   "metadata": {},
   "source": [
    "\n",
    "- [翻訳したテキストのフォント](https://forest.watch.impress.co.jp/library/software/ipaexfont/download_10822.html)"
   ]
  },
  {
   "cell_type": "code",
   "execution_count": 4,
   "id": "d81325ec-d0dc-43ab-83f8-a6e98bea928c",
   "metadata": {},
   "outputs": [
    {
     "name": "stderr",
     "output_type": "stream",
     "text": [
      "/usr/lib/python3/dist-packages/requests/__init__.py:89: RequestsDependencyWarning: urllib3 (1.26.15) or chardet (3.0.4) doesn't match a supported version!\n",
      "  warnings.warn(\"urllib3 ({}) or chardet ({}) doesn't match a supported \"\n",
      "2023-04-15 06:29:36.838443: I tensorflow/core/util/util.cc:169] oneDNN custom operations are on. You may see slightly different numerical results due to floating-point round-off errors from different computation orders. To turn them off, set the environment variable `TF_ENABLE_ONEDNN_OPTS=0`.\n"
     ]
    }
   ],
   "source": [
    "import os\n",
    "from tqdm.notebook import tqdm\n",
    "tqdm.pandas()\n",
    "import glob\n",
    "\n",
    "import pdfplumber\n",
    "from transformers import MarianMTModel, MarianTokenizer\n",
    "from reportlab.pdfgen import canvas\n",
    "from reportlab.lib.pagesizes import letter\n",
    "import re"
   ]
  },
  {
   "cell_type": "code",
   "execution_count": 5,
   "id": "2fe81eac-5090-4287-81b7-e1f2460fb364",
   "metadata": {},
   "outputs": [
    {
     "data": {
      "text/plain": [
       "['./input/2111.13462v1.pdf']"
      ]
     },
     "execution_count": 5,
     "metadata": {},
     "output_type": "execute_result"
    }
   ],
   "source": [
    "input_path = './input'\n",
    "file_path_list = glob.glob(input_path + '/*.pdf')\n",
    "file_path_list"
   ]
  },
  {
   "cell_type": "code",
   "execution_count": 6,
   "id": "a852aaa0-2a48-4cf8-878a-98b5b1561a8c",
   "metadata": {},
   "outputs": [],
   "source": [
    "input_pdf_path = file_path_list[0]\n",
    "output_pdf_path = './output' + file_path_list[0].split('/')[-1]\n",
    "os.makedirs('./output', exist_ok=True)"
   ]
  },
  {
   "cell_type": "code",
   "execution_count": 7,
   "id": "67473918-14f6-436c-adf8-36c58502d172",
   "metadata": {},
   "outputs": [
    {
     "data": {
      "text/plain": [
       "['./input/2111.13462v1.pdf']"
      ]
     },
     "execution_count": 7,
     "metadata": {},
     "output_type": "execute_result"
    }
   ],
   "source": [
    "input_path = './input'\n",
    "file_path_list = glob.glob(input_path + '/*.pdf')\n",
    "file_path_list"
   ]
  },
  {
   "cell_type": "code",
   "execution_count": 8,
   "id": "d9993588-1f79-4262-a166-788a92be5726",
   "metadata": {},
   "outputs": [],
   "source": [
    "input_pdf_path = file_path_list[0]\n",
    "output_pdf_path = './output/' + file_path_list[0].split('/')[-1]"
   ]
  },
  {
   "cell_type": "code",
   "execution_count": 9,
   "id": "adab84ef-a0e3-43b6-8ea9-099a0ce67721",
   "metadata": {},
   "outputs": [],
   "source": [
    "def extract_pdf_text(file_path):\n",
    "    with pdfplumber.open(file_path) as pdf:\n",
    "        text = \"\"\n",
    "        for page in tqdm(pdf.pages):\n",
    "            text += page.extract_text()\n",
    "    return text"
   ]
  },
  {
   "cell_type": "code",
   "execution_count": 10,
   "id": "a579caf8-0d28-4e7b-b938-7fa28b737f6a",
   "metadata": {},
   "outputs": [],
   "source": [
    "import re\n",
    "import string\n",
    "\n",
    "def remove_stopwords(text):\n",
    "    # 改行文字やタブ文字を除去します\n",
    "    text = text.replace('\\n', ' ').replace('\\t', ' ')\n",
    "    # Unicodeエスケープシーケンスを除去します\n",
    "    text = re.sub(r'\\\\[xX][a-fA-F0-9]{2}', '', text)\n",
    "    # パンクチュエーション文字を除去します\n",
    "    text = text.translate(str.maketrans('', '', string.punctuation))\n",
    "    return text"
   ]
  },
  {
   "cell_type": "code",
   "execution_count": 11,
   "id": "68d33e98-0940-47b4-84d6-71f7864e989c",
   "metadata": {},
   "outputs": [],
   "source": [
    "def split_sentences(text):\n",
    "    sentences = re.split(r'(?<!\\w\\.\\w.)(?<![A-Z][a-z]\\.)(?<=\\.|\\?)\\s', text)\n",
    "    return sentences"
   ]
  },
  {
   "cell_type": "code",
   "execution_count": 12,
   "id": "b40f94a2-e929-4b47-9373-74d1dffaa2f7",
   "metadata": {},
   "outputs": [],
   "source": [
    "from transformers import pipeline\n",
    "\n",
    "# Load the MarianMTModel and MarianTokenizer for English to Japanese translation\n",
    "model_name = 'staka/fugumt-en-ja'\n",
    "fugu_translator = pipeline('translation', model='staka/fugumt-en-ja')\n",
    "\n",
    "def translate_text(text, model_name):\n",
    "    # tokenizer = MarianTokenizer.from_pretrained(model_name)\n",
    "    # model = MarianMTModel.from_pretrained(model_name)\n",
    "\n",
    "    sentences = split_sentences(text)\n",
    "    translated_sentences = []\n",
    "\n",
    "    for sentence in tqdm(sentences):\n",
    "        # tokenized_text = tokenizer(sentence, return_tensors=\"pt\", padding=True, truncation=True)\n",
    "        # translated_tokens = model.generate(**tokenized_text, max_length=512, num_return_sequences=1)\n",
    "        # translated_sentence = tokenizer.decode(translated_tokens[0], skip_special_tokens=True)\n",
    "        \n",
    "        try:\n",
    "            translated_sentence = fugu_translator(sentences)\n",
    "        except IndexError:\n",
    "            pass\n",
    "        \n",
    "        japanese_translations = []\n",
    "        for translation in translated_sentence:\n",
    "            japanese_translations.append(translation['translation_text'])\n",
    "        translated_sentence = ''.join(japanese_translations)\n",
    "        \n",
    "        translated_sentences.append(translated_sentence)\n",
    "\n",
    "    translated_text = \"\\n\".join(translated_sentences)\n",
    "    return translated_text"
   ]
  },
  {
   "cell_type": "code",
   "execution_count": 13,
   "id": "dff9a8b6-c1d8-4057-a74c-b318474e03d5",
   "metadata": {},
   "outputs": [],
   "source": [
    "from reportlab.pdfbase import pdfmetrics\n",
    "from reportlab.pdfbase.ttfonts import TTFont\n",
    "\n",
    "def save_text_to_pdf(output_path, translated_text, font_path=\"ipaexm.ttf\"):\n",
    "    pdfmetrics.registerFont(TTFont(\"IPAexGothic\", font_path))\n",
    "    \n",
    "    c = canvas.Canvas(output_path, pagesize=letter)\n",
    "    c.setFont(\"IPAexGothic\", 14)\n",
    "    x, y = 30, 750\n",
    "    for line in translated_text.split(\"\\n\"):\n",
    "        c.drawString(x, y, line)\n",
    "        y -= 20\n",
    "        if y < 20:\n",
    "            c.showPage()\n",
    "            y = 750\n",
    "    c.save()"
   ]
  },
  {
   "cell_type": "code",
   "execution_count": 14,
   "id": "78d14e65-d73a-49ce-9c88-71b68a6284aa",
   "metadata": {},
   "outputs": [
    {
     "data": {
      "application/vnd.jupyter.widget-view+json": {
       "model_id": "f3b9421e8dd04fecad6a300b3695a16a",
       "version_major": 2,
       "version_minor": 0
      },
      "text/plain": [
       "  0%|          | 0/12 [00:00<?, ?it/s]"
      ]
     },
     "metadata": {},
     "output_type": "display_data"
    }
   ],
   "source": [
    "# PDFからテキストを抽出\n",
    "text = extract_pdf_text(input_pdf_path)"
   ]
  },
  {
   "cell_type": "code",
   "execution_count": 15,
   "id": "51f43fcb-4efa-479c-a1a6-04e9cd29e3a5",
   "metadata": {},
   "outputs": [],
   "source": [
    "# text = remove_stopwords(text)"
   ]
  },
  {
   "cell_type": "code",
   "execution_count": 16,
   "id": "635ee7ca-49ce-4cf1-87f6-c8775fd0444c",
   "metadata": {},
   "outputs": [
    {
     "data": {
      "application/vnd.jupyter.widget-view+json": {
       "model_id": "145de1d9761148eebdca1af031acd031",
       "version_major": 2,
       "version_minor": 0
      },
      "text/plain": [
       "  0%|          | 0/255 [00:00<?, ?it/s]"
      ]
     },
     "metadata": {},
     "output_type": "display_data"
    }
   ],
   "source": [
    "# テキストを日本語に翻訳\n",
    "model_name = \"staka/fugumt-en-ja\" # 英語から日本語への翻訳モデル\n",
    "translated_text = translate_text(text, model_name)"
   ]
  },
  {
   "cell_type": "code",
   "execution_count": 17,
   "id": "67e51437-9629-47b5-bf26-7d065e612711",
   "metadata": {},
   "outputs": [
    {
     "data": {
      "text/plain": [
       "'Log Data Thorsten Wittkopp, Philipp Wiesner, Domin'"
      ]
     },
     "execution_count": 17,
     "metadata": {},
     "output_type": "execute_result"
    }
   ],
   "source": [
    "translated_text[:50]"
   ]
  },
  {
   "cell_type": "code",
   "execution_count": 18,
   "id": "6c60bdce-0a0b-4065-8dde-28075d1a0c07",
   "metadata": {},
   "outputs": [],
   "source": [
    "# 翻訳されたテキストをPDFとして保存\n",
    "os.makedirs('./output', exist_ok=True)\n",
    "save_text_to_pdf(output_pdf_path, translated_text)"
   ]
  },
  {
   "cell_type": "code",
   "execution_count": 19,
   "id": "bf7ac7e6-33e9-4c48-8636-123c38130574",
   "metadata": {},
   "outputs": [],
   "source": [
    "# 翻訳されたテキストをtxtとして保存\n",
    "def save_text_to_txt(output_path, translated_text):\n",
    "    with open(output_path, 'w', encoding='utf-8') as txt_file:\n",
    "        txt_file.write(translated_text)"
   ]
  },
  {
   "cell_type": "code",
   "execution_count": 20,
   "id": "761d76d5-c30a-48bb-a5d0-4814e609338e",
   "metadata": {},
   "outputs": [],
   "source": [
    "output_txt_path = output_pdf_path.split('.')[1]\n",
    "output_txt_path = '.' + output_txt_path + '.txt'\n",
    "save_text_to_txt(output_txt_path, translated_text)"
   ]
  },
  {
   "cell_type": "code",
   "execution_count": null,
   "id": "8bb7e51f-69fc-4ac0-aa94-9e16c7f49739",
   "metadata": {},
   "outputs": [],
   "source": []
  }
 ],
 "metadata": {
  "kernelspec": {
   "display_name": "Python 3 (ipykernel)",
   "language": "python",
   "name": "python3"
  },
  "language_info": {
   "codemirror_mode": {
    "name": "ipython",
    "version": 3
   },
   "file_extension": ".py",
   "mimetype": "text/x-python",
   "name": "python",
   "nbconvert_exporter": "python",
   "pygments_lexer": "ipython3",
   "version": "3.8.10"
  }
 },
 "nbformat": 4,
 "nbformat_minor": 5
}
